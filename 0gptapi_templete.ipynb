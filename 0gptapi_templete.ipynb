{
 "cells": [
  {
   "cell_type": "markdown",
   "id": "4b1bcbbd",
   "metadata": {},
   "source": [
    "# openai api key 테스트"
   ]
  },
  {
   "cell_type": "markdown",
   "id": "926c7a0a",
   "metadata": {},
   "source": [
    "## API key 로딩"
   ]
  },
  {
   "cell_type": "code",
   "execution_count": 1,
   "id": "725ccb7d",
   "metadata": {},
   "outputs": [],
   "source": [
    "from dotenv import load_dotenv\n",
    "import os\n",
    "\n",
    "# .env 파일 로드\n",
    "load_dotenv(override=True)\n",
    "\n",
    "# 환경변수 불러오기\n",
    "OPENAI_API_KEY = os.getenv(\"OPENAI_API_KEY\")\n",
    "# print(OPENAI_API_KEY)\n"
   ]
  },
  {
   "cell_type": "markdown",
   "id": "53c1eef0",
   "metadata": {},
   "source": [
    "## 라이브러리 로딩 및 객체 생성"
   ]
  },
  {
   "cell_type": "code",
   "execution_count": 2,
   "id": "f9a16428",
   "metadata": {},
   "outputs": [],
   "source": [
    "from openai import OpenAI\n",
    "# openai api 인증 ipenAI 객체 생성\n",
    "client = OpenAI(api_key=OPENAI_API_KEY)"
   ]
  },
  {
   "cell_type": "code",
   "execution_count": 3,
   "id": "3b26274a",
   "metadata": {},
   "outputs": [
    {
     "name": "stdout",
     "output_type": "stream",
     "text": [
      "ChatCompletionMessage(content='전세계에서 가장 많이 사용되는 프로그래밍 언어의 순위는 계속 변하기 때문에 정확한 순위를 제공하기는 어렵지만, 현재로서는 대부분의 조사와 통계에 따르면 다음과 같은 프로그래밍 언어가 상위 5위에 속한다고 할 수 있습니다.\\n\\n1. JavaScript\\n2. Python\\n3. Java\\n4. C#\\n5. PHP\\n\\n이 순위는 공식적인 것은 아니며, 산업 및 지역에 따라 사용되는 언어는 다를 수 있습니다.하지만 이러한 언어들은 여러 분야에서 널리 사용되며 프로그래밍 입문자부터 경력이 있는 개발자까지 다양한 프로젝트에 활용되고 있습니다.', refusal=None, role='assistant', annotations=[], audio=None, function_call=None, tool_calls=None)\n"
     ]
    }
   ],
   "source": [
    "completion = client.chat.completions.create(\n",
    "  model=\"gpt-3.5-turbo\",\n",
    "  messages=[\n",
    "    {\"role\": \"system\", \"content\": \"너는 IT전문가야.\"},\n",
    "    {\"role\": \"user\", \"content\": \"전세계서 가장 많이 사용하는 프로그래밍 언어 top5를 얘기해줘\"}\n",
    "  ]\n",
    ")\n",
    "\n",
    "print(completion.choices[0].message)"
   ]
  },
  {
   "cell_type": "code",
   "execution_count": null,
   "id": "9bd7e170",
   "metadata": {},
   "outputs": [],
   "source": []
  }
 ],
 "metadata": {
  "kernelspec": {
   "display_name": "gpt_env",
   "language": "python",
   "name": "python3"
  },
  "language_info": {
   "codemirror_mode": {
    "name": "ipython",
    "version": 3
   },
   "file_extension": ".py",
   "mimetype": "text/x-python",
   "name": "python",
   "nbconvert_exporter": "python",
   "pygments_lexer": "ipython3",
   "version": "3.12.12"
  }
 },
 "nbformat": 4,
 "nbformat_minor": 5
}
